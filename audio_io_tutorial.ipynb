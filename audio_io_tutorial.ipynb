{
  "cells": [
    {
      "cell_type": "markdown",
      "metadata": {
        "id": "jzE9exbuLs3e"
      },
      "source": [
        "\n",
        "# Audio I/O\n",
        "\n",
        "**Author**: [Moto Hira](moto@meta.com)_\n",
        "\n",
        "This tutorial shows how to use TorchAudio's basic I/O API to inspect audio data,\n",
        "load them into PyTorch Tensors and save PyTorch Tensors.\n",
        "\n",
        "<div class=\"alert alert-danger\"><h4>Warning</h4><p>There are multiple changes planned/made to audio I/O in recent releases.\n",
        "   For the detail of these changes please refer to\n",
        "   `Introduction of Dispatcher <dispatcher_migration>`.</p></div>\n"
      ]
    },
    {
      "cell_type": "code",
      "execution_count": null,
      "metadata": {
        "id": "pxAF1FkBLs3i"
      },
      "outputs": [],
      "source": [
        "import torch\n",
        "import torchaudio\n",
        "\n",
        "print(torch.__version__)\n",
        "print(torchaudio.__version__)"
      ]
    },
    {
      "cell_type": "markdown",
      "metadata": {
        "id": "lqvBqPYgLs3j"
      },
      "source": [
        "## Preparation\n",
        "\n",
        "First, we import the modules and download the audio assets we use in this tutorial.\n",
        "\n",
        "<div class=\"alert alert-info\"><h4>Note</h4><p>When running this tutorial in Google Colab, install the required packages\n",
        "   with the following:\n",
        "\n",
        "   .. code::\n",
        "\n",
        "      !pip install boto3</p></div>\n",
        "\n"
      ]
    },
    {
      "cell_type": "code",
      "execution_count": null,
      "metadata": {
        "id": "vz2Wl2mpLs3j"
      },
      "outputs": [],
      "source": [
        "import io\n",
        "import os\n",
        "import tarfile\n",
        "import tempfile\n",
        "\n",
        "import boto3\n",
        "import matplotlib.pyplot as plt\n",
        "import requests\n",
        "from botocore import UNSIGNED\n",
        "from botocore.config import Config\n",
        "from IPython.display import Audio\n",
        "from torchaudio.utils import download_asset\n",
        "\n",
        "SAMPLE_GSM = download_asset(\"tutorial-assets/steam-train-whistle-daniel_simon.gsm\")\n",
        "SAMPLE_WAV = download_asset(\"tutorial-assets/Lab41-SRI-VOiCES-src-sp0307-ch127535-sg0042.wav\")\n",
        "SAMPLE_WAV_8000 = download_asset(\"tutorial-assets/Lab41-SRI-VOiCES-src-sp0307-ch127535-sg0042-8000hz.wav\")\n",
        "\n",
        "\n",
        "def _hide_seek(obj):\n",
        "    class _wrapper:\n",
        "        def __init__(self, obj):\n",
        "            self.obj = obj\n",
        "\n",
        "        def read(self, n):\n",
        "            return self.obj.read(n)\n",
        "\n",
        "    return _wrapper(obj)"
      ]
    },
    {
      "cell_type": "markdown",
      "metadata": {
        "id": "Lfh1kc9wLs3j"
      },
      "source": [
        "## Querying audio metadata\n",
        "\n",
        "Function :py:func:`torchaudio.info` fetches audio metadata.\n",
        "You can provide a path-like object or file-like object.\n",
        "\n",
        "\n"
      ]
    },
    {
      "cell_type": "code",
      "execution_count": null,
      "metadata": {
        "id": "5-aTTFKFLs3j"
      },
      "outputs": [],
      "source": [
        "metadata = torchaudio.info(SAMPLE_WAV)\n",
        "print(metadata)"
      ]
    },
    {
      "cell_type": "markdown",
      "metadata": {
        "id": "L-eAXkgELs3k"
      },
      "source": [
        "Where\n",
        "\n",
        "-  ``sample_rate`` is the sampling rate of the audio\n",
        "-  ``num_channels`` is the number of channels\n",
        "-  ``num_frames`` is the number of frames per channel\n",
        "-  ``bits_per_sample`` is bit depth\n",
        "-  ``encoding`` is the sample coding format\n",
        "\n",
        "``encoding`` can take on one of the following values:\n",
        "\n",
        "-  ``\"PCM_S\"``: Signed integer linear PCM\n",
        "-  ``\"PCM_U\"``: Unsigned integer linear PCM\n",
        "-  ``\"PCM_F\"``: Floating point linear PCM\n",
        "-  ``\"FLAC\"``: Flac, [Free Lossless Audio\n",
        "   Codec](https://xiph.org/flac/)_\n",
        "-  ``\"ULAW\"``: Mu-law,\n",
        "   [[wikipedia](https://en.wikipedia.org/wiki/%CE%9C-law_algorithm)_]\n",
        "-  ``\"ALAW\"``: A-law\n",
        "   [[wikipedia](https://en.wikipedia.org/wiki/A-law_algorithm)_]\n",
        "-  ``\"MP3\"`` : MP3, MPEG-1 Audio Layer III\n",
        "-  ``\"VORBIS\"``: OGG Vorbis [[xiph.org](https://xiph.org/vorbis/)_]\n",
        "-  ``\"AMR_NB\"``: Adaptive Multi-Rate\n",
        "   [[wikipedia](https://en.wikipedia.org/wiki/Adaptive_Multi-Rate_audio_codec)_]\n",
        "-  ``\"AMR_WB\"``: Adaptive Multi-Rate Wideband\n",
        "   [[wikipedia](https://en.wikipedia.org/wiki/Adaptive_Multi-Rate_Wideband)_]\n",
        "-  ``\"OPUS\"``: Opus [[opus-codec.org](https://opus-codec.org/)_]\n",
        "-  ``\"GSM\"``: GSM-FR\n",
        "   [[wikipedia](https://en.wikipedia.org/wiki/Full_Rate)_]\n",
        "-  ``\"HTK\"``: Single channel 16-bit PCM\n",
        "-  ``\"UNKNOWN\"`` None of above\n",
        "\n",
        "\n"
      ]
    },
    {
      "cell_type": "markdown",
      "metadata": {
        "id": "6HdZviOHLs3k"
      },
      "source": [
        "**Note**\n",
        "\n",
        "-  ``bits_per_sample`` can be ``0`` for formats with compression and/or\n",
        "   variable bit rate (such as MP3).\n",
        "-  ``num_frames`` can be ``0`` for GSM-FR format.\n",
        "\n",
        "\n"
      ]
    },
    {
      "cell_type": "code",
      "execution_count": null,
      "metadata": {
        "id": "lQeGK_X7Ls3k"
      },
      "outputs": [],
      "source": [
        "metadata = torchaudio.info(SAMPLE_GSM)\n",
        "print(metadata)"
      ]
    },
    {
      "cell_type": "markdown",
      "metadata": {
        "id": "5LAQNvdtLs3l"
      },
      "source": [
        "## Querying file-like object\n",
        "\n",
        ":py:func:`torchaudio.info` works on file-like objects.\n",
        "\n",
        "\n"
      ]
    },
    {
      "cell_type": "code",
      "execution_count": null,
      "metadata": {
        "id": "zcOOIg0NLs3l"
      },
      "outputs": [],
      "source": [
        "url = \"https://download.pytorch.org/torchaudio/tutorial-assets/steam-train-whistle-daniel_simon.wav\"\n",
        "with requests.get(url, stream=True) as response:\n",
        "    metadata = torchaudio.info(_hide_seek(response.raw))\n",
        "print(metadata)"
      ]
    },
    {
      "cell_type": "markdown",
      "metadata": {
        "id": "bCCYJ046Ls3l"
      },
      "source": [
        "<div class=\"alert alert-info\"><h4>Note</h4><p>When passing a file-like object, ``info`` does not read\n",
        "   all of the underlying data; rather, it reads only a portion\n",
        "   of the data from the beginning.\n",
        "   Therefore, for a given audio format, it may not be able to retrieve the\n",
        "   correct metadata, including the format itself. In such case, you\n",
        "   can pass ``format`` argument to specify the format of the audio.</p></div>\n",
        "\n"
      ]
    },
    {
      "cell_type": "markdown",
      "metadata": {
        "id": "C8TubrsqLs3l"
      },
      "source": [
        "## Loading audio data\n",
        "\n",
        "To load audio data, you can use :py:func:`torchaudio.load`.\n",
        "\n",
        "This function accepts a path-like object or file-like object as input.\n",
        "\n",
        "The returned value is a tuple of waveform (``Tensor``) and sample rate\n",
        "(``int``).\n",
        "\n",
        "By default, the resulting tensor object has ``dtype=torch.float32`` and\n",
        "its value range is ``[-1.0, 1.0]``.\n",
        "\n",
        "For the list of supported format, please refer to [the torchaudio\n",
        "documentation](https://pytorch.org/audio)_.\n",
        "\n",
        "\n"
      ]
    },
    {
      "cell_type": "code",
      "execution_count": null,
      "metadata": {
        "id": "ayKPHAiBLs3l"
      },
      "outputs": [],
      "source": [
        "waveform, sample_rate = torchaudio.load(SAMPLE_WAV)"
      ]
    },
    {
      "cell_type": "code",
      "execution_count": null,
      "metadata": {
        "id": "1cKBjQdILs3l"
      },
      "outputs": [],
      "source": [
        "def plot_waveform(waveform, sample_rate):\n",
        "    waveform = waveform.numpy()\n",
        "\n",
        "    num_channels, num_frames = waveform.shape\n",
        "    time_axis = torch.arange(0, num_frames) / sample_rate\n",
        "\n",
        "    figure, axes = plt.subplots(num_channels, 1)\n",
        "    if num_channels == 1:\n",
        "        axes = [axes]\n",
        "    for c in range(num_channels):\n",
        "        axes[c].plot(time_axis, waveform[c], linewidth=1)\n",
        "        axes[c].grid(True)\n",
        "        if num_channels > 1:\n",
        "            axes[c].set_ylabel(f\"Channel {c+1}\")\n",
        "    figure.suptitle(\"waveform\")"
      ]
    },
    {
      "cell_type": "code",
      "execution_count": null,
      "metadata": {
        "id": "23-GDIzlLs3m"
      },
      "outputs": [],
      "source": [
        "plot_waveform(waveform, sample_rate)"
      ]
    },
    {
      "cell_type": "code",
      "execution_count": null,
      "metadata": {
        "id": "NP5fRXCsLs3m"
      },
      "outputs": [],
      "source": [
        "def plot_specgram(waveform, sample_rate, title=\"Spectrogram\"):\n",
        "    waveform = waveform.numpy()\n",
        "\n",
        "    num_channels, num_frames = waveform.shape\n",
        "\n",
        "    figure, axes = plt.subplots(num_channels, 1)\n",
        "    if num_channels == 1:\n",
        "        axes = [axes]\n",
        "    for c in range(num_channels):\n",
        "        axes[c].specgram(waveform[c], Fs=sample_rate)\n",
        "        if num_channels > 1:\n",
        "            axes[c].set_ylabel(f\"Channel {c+1}\")\n",
        "    figure.suptitle(title)"
      ]
    },
    {
      "cell_type": "code",
      "execution_count": null,
      "metadata": {
        "id": "x1lXtdJeLs3m"
      },
      "outputs": [],
      "source": [
        "plot_specgram(waveform, sample_rate)"
      ]
    },
    {
      "cell_type": "code",
      "execution_count": null,
      "metadata": {
        "id": "Q_FNRP6xLs3m"
      },
      "outputs": [],
      "source": [
        "Audio(waveform.numpy()[0], rate=sample_rate)"
      ]
    },
    {
      "cell_type": "markdown",
      "metadata": {
        "id": "HDF-E0n5Ls3m"
      },
      "source": [
        "## Loading from file-like object\n",
        "\n",
        "The I/O functions support file-like objects.\n",
        "This allows for fetching and decoding audio data from locations\n",
        "within and beyond the local file system.\n",
        "The following examples illustrate this.\n",
        "\n",
        "\n"
      ]
    },
    {
      "cell_type": "code",
      "execution_count": null,
      "metadata": {
        "id": "bXhnnRh7Ls3m"
      },
      "outputs": [],
      "source": [
        "# Load audio data as HTTP request\n",
        "url = \"https://download.pytorch.org/torchaudio/tutorial-assets/Lab41-SRI-VOiCES-src-sp0307-ch127535-sg0042.wav\"\n",
        "with requests.get(url, stream=True) as response:\n",
        "    waveform, sample_rate = torchaudio.load(_hide_seek(response.raw))\n",
        "plot_specgram(waveform, sample_rate, title=\"HTTP datasource\")"
      ]
    },
    {
      "cell_type": "code",
      "execution_count": null,
      "metadata": {
        "id": "_Kt4rAA2Ls3m"
      },
      "outputs": [],
      "source": [
        "# Load audio from tar file\n",
        "tar_path = download_asset(\"tutorial-assets/VOiCES_devkit.tar.gz\")\n",
        "tar_item = \"VOiCES_devkit/source-16k/train/sp0307/Lab41-SRI-VOiCES-src-sp0307-ch127535-sg0042.wav\"\n",
        "with tarfile.open(tar_path, mode=\"r\") as tarfile_:\n",
        "    fileobj = tarfile_.extractfile(tar_item)\n",
        "    waveform, sample_rate = torchaudio.load(fileobj)\n",
        "plot_specgram(waveform, sample_rate, title=\"TAR file\")"
      ]
    },
    {
      "cell_type": "code",
      "execution_count": null,
      "metadata": {
        "id": "4hLi285YLs3m"
      },
      "outputs": [],
      "source": [
        "# Load audio from S3\n",
        "bucket = \"pytorch-tutorial-assets\"\n",
        "key = \"VOiCES_devkit/source-16k/train/sp0307/Lab41-SRI-VOiCES-src-sp0307-ch127535-sg0042.wav\"\n",
        "client = boto3.client(\"s3\", config=Config(signature_version=UNSIGNED))\n",
        "response = client.get_object(Bucket=bucket, Key=key)\n",
        "waveform, sample_rate = torchaudio.load(_hide_seek(response[\"Body\"]))\n",
        "plot_specgram(waveform, sample_rate, title=\"From S3\")"
      ]
    },
    {
      "cell_type": "markdown",
      "metadata": {
        "id": "QHD2pA18Ls3m"
      },
      "source": [
        "## Tips on slicing\n",
        "\n",
        "Providing ``num_frames`` and ``frame_offset`` arguments restricts\n",
        "decoding to the corresponding segment of the input.\n",
        "\n",
        "The same result can be achieved using vanilla Tensor slicing,\n",
        "(i.e. ``waveform[:, frame_offset:frame_offset+num_frames]``). However,\n",
        "providing ``num_frames`` and ``frame_offset`` arguments is more\n",
        "efficient.\n",
        "\n",
        "This is because the function will end data acquisition and decoding\n",
        "once it finishes decoding the requested frames. This is advantageous\n",
        "when the audio data are transferred via network as the data transfer will\n",
        "stop as soon as the necessary amount of data is fetched.\n",
        "\n",
        "The following example illustrates this.\n",
        "\n",
        "\n"
      ]
    },
    {
      "cell_type": "code",
      "execution_count": null,
      "metadata": {
        "id": "qGREnlw4Ls3n"
      },
      "outputs": [],
      "source": [
        "# Illustration of two different decoding methods.\n",
        "# The first one will fetch all the data and decode them, while\n",
        "# the second one will stop fetching data once it completes decoding.\n",
        "# The resulting waveforms are identical.\n",
        "\n",
        "frame_offset, num_frames = 16000, 16000  # Fetch and decode the 1 - 2 seconds\n",
        "\n",
        "url = \"https://download.pytorch.org/torchaudio/tutorial-assets/Lab41-SRI-VOiCES-src-sp0307-ch127535-sg0042.wav\"\n",
        "print(\"Fetching all the data...\")\n",
        "with requests.get(url, stream=True) as response:\n",
        "    waveform1, sample_rate1 = torchaudio.load(_hide_seek(response.raw))\n",
        "    waveform1 = waveform1[:, frame_offset : frame_offset + num_frames]\n",
        "    print(f\" - Fetched {response.raw.tell()} bytes\")\n",
        "\n",
        "print(\"Fetching until the requested frames are available...\")\n",
        "with requests.get(url, stream=True) as response:\n",
        "    waveform2, sample_rate2 = torchaudio.load(\n",
        "        _hide_seek(response.raw), frame_offset=frame_offset, num_frames=num_frames\n",
        "    )\n",
        "    print(f\" - Fetched {response.raw.tell()} bytes\")\n",
        "\n",
        "print(\"Checking the resulting waveform ... \", end=\"\")\n",
        "assert (waveform1 == waveform2).all()\n",
        "print(\"matched!\")"
      ]
    },
    {
      "cell_type": "markdown",
      "metadata": {
        "id": "5KbW7C0GLs3n"
      },
      "source": [
        "## Saving audio to file\n",
        "\n",
        "To save audio data in formats interpretable by common applications,\n",
        "you can use :py:func:`torchaudio.save`.\n",
        "\n",
        "This function accepts a path-like object or file-like object.\n",
        "\n",
        "When passing a file-like object, you also need to provide argument ``format``\n",
        "so that the function knows which format it should use. In the\n",
        "case of a path-like object, the function will infer the format from\n",
        "the extension. If you are saving to a file without an extension, you need\n",
        "to provide argument ``format``.\n",
        "\n",
        "When saving WAV-formatted data, the default encoding for ``float32`` Tensor\n",
        "is 32-bit floating-point PCM. You can provide arguments ``encoding`` and\n",
        "``bits_per_sample`` to change this behavior. For example, to save data\n",
        "in 16-bit signed integer PCM, you can do the following.\n",
        "\n",
        "<div class=\"alert alert-info\"><h4>Note</h4><p>Saving data in encodings with a lower bit depth reduces the\n",
        "   resulting file size but also precision.</p></div>\n",
        "\n",
        "\n"
      ]
    },
    {
      "cell_type": "code",
      "execution_count": null,
      "metadata": {
        "id": "VjFt9EuzLs3n"
      },
      "outputs": [],
      "source": [
        "waveform, sample_rate = torchaudio.load(SAMPLE_WAV)"
      ]
    },
    {
      "cell_type": "code",
      "execution_count": null,
      "metadata": {
        "id": "ID1nwvDWLs3n"
      },
      "outputs": [],
      "source": [
        "def inspect_file(path):\n",
        "    print(\"-\" * 10)\n",
        "    print(\"Source:\", path)\n",
        "    print(\"-\" * 10)\n",
        "    print(f\" - File size: {os.path.getsize(path)} bytes\")\n",
        "    print(f\" - {torchaudio.info(path)}\")\n",
        "    print()"
      ]
    },
    {
      "cell_type": "markdown",
      "metadata": {
        "id": "uyg5qdQeLs3n"
      },
      "source": [
        "Save without any encoding option.\n",
        "The function will pick up the encoding which\n",
        "the provided data fit\n",
        "\n"
      ]
    },
    {
      "cell_type": "code",
      "execution_count": null,
      "metadata": {
        "id": "Pxmn_aDpLs3n"
      },
      "outputs": [],
      "source": [
        "with tempfile.TemporaryDirectory() as tempdir:\n",
        "    path = f\"{tempdir}/save_example_default.wav\"\n",
        "    torchaudio.save(path, waveform, sample_rate)\n",
        "    inspect_file(path)"
      ]
    },
    {
      "cell_type": "markdown",
      "metadata": {
        "id": "OEZxsXoNLs3n"
      },
      "source": [
        "Save as 16-bit signed integer Linear PCM\n",
        "The resulting file occupies half the storage but loses precision\n",
        "\n"
      ]
    },
    {
      "cell_type": "code",
      "execution_count": null,
      "metadata": {
        "id": "X8P4SckoLs3n"
      },
      "outputs": [],
      "source": [
        "with tempfile.TemporaryDirectory() as tempdir:\n",
        "    path = f\"{tempdir}/save_example_PCM_S16.wav\"\n",
        "    torchaudio.save(path, waveform, sample_rate, encoding=\"PCM_S\", bits_per_sample=16)\n",
        "    inspect_file(path)"
      ]
    },
    {
      "cell_type": "markdown",
      "metadata": {
        "id": "pApmVFJSLs3n"
      },
      "source": [
        ":py:func:`torchaudio.save` can also handle other formats.\n",
        "To name a few:\n",
        "\n",
        "\n"
      ]
    },
    {
      "cell_type": "code",
      "execution_count": null,
      "metadata": {
        "id": "jZKg90k3Ls3o"
      },
      "outputs": [],
      "source": [
        "formats = [\n",
        "    \"flac\",\n",
        "    # \"vorbis\",\n",
        "    # \"sph\",\n",
        "    # \"amb\",\n",
        "    # \"amr-nb\",\n",
        "    # \"gsm\",\n",
        "]"
      ]
    },
    {
      "cell_type": "code",
      "execution_count": null,
      "metadata": {
        "id": "CvKpbV3CLs3o"
      },
      "outputs": [],
      "source": [
        "waveform, sample_rate = torchaudio.load(SAMPLE_WAV_8000)\n",
        "with tempfile.TemporaryDirectory() as tempdir:\n",
        "    for format in formats:\n",
        "        path = f\"{tempdir}/save_example.{format}\"\n",
        "        torchaudio.save(path, waveform, sample_rate, format=format)\n",
        "        inspect_file(path)"
      ]
    },
    {
      "cell_type": "markdown",
      "metadata": {
        "id": "bYKhTKZvLs3o"
      },
      "source": [
        "## Saving to file-like object\n",
        "\n",
        "Similar to the other I/O functions, you can save audio to file-like\n",
        "objects. When saving to a file-like object, argument ``format`` is\n",
        "required.\n",
        "\n",
        "\n"
      ]
    },
    {
      "cell_type": "code",
      "execution_count": null,
      "metadata": {
        "id": "2V7CDbHgLs3o"
      },
      "outputs": [],
      "source": [
        "waveform, sample_rate = torchaudio.load(SAMPLE_WAV)\n",
        "\n",
        "# Saving to bytes buffer\n",
        "buffer_ = io.BytesIO()\n",
        "torchaudio.save(buffer_, waveform, sample_rate, format=\"wav\")\n",
        "\n",
        "buffer_.seek(0)\n",
        "print(buffer_.read(16))"
      ]
    }
  ],
  "metadata": {
    "kernelspec": {
      "display_name": "Python 3",
      "language": "python",
      "name": "python3"
    },
    "language_info": {
      "codemirror_mode": {
        "name": "ipython",
        "version": 3
      },
      "file_extension": ".py",
      "mimetype": "text/x-python",
      "name": "python",
      "nbconvert_exporter": "python",
      "pygments_lexer": "ipython3",
      "version": "3.10.13"
    },
    "colab": {
      "provenance": []
    }
  },
  "nbformat": 4,
  "nbformat_minor": 0
}